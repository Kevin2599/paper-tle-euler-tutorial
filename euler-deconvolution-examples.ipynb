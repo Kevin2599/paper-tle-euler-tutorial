{
 "metadata": {
  "name": ""
 },
 "nbformat": 3,
 "nbformat_minor": 0,
 "worksheets": [
  {
   "cells": [
    {
     "cell_type": "markdown",
     "metadata": {},
     "source": [
      "# Examples of common uses of Euler deconvolution\n",
      "\n",
      "Euler deconvolution of potential fields is widely used interpretation technique.\n",
      "This is, in no small part, due to its simplicity and ease of implementation and use.\n",
      "This [IPython notebook](http://ipython.org/notebook.html) will apply standard Euler deconvolution on synthetic data in an attempt to highlight common misconseptions in the interpretation of the results."
     ]
    },
    {
     "cell_type": "code",
     "collapsed": false,
     "input": [
      "%matplotlib inline\n",
      "import numpy as np\n",
      "from fatiando.gravmag.euler import Classic, ExpandingWindow, MovingWindow\n",
      "from fatiando.gravmag import prism, polyprism, fourier\n",
      "from fatiando.mesher import PolygonalPrism, Prism\n",
      "from fatiando.vis import mpl, myv\n",
      "from fatiando import gridder, utils\n",
      "import fatiando\n",
      "print(\"Using Fatiando a Terra version {0}\".format((fatiando.version)))"
     ],
     "language": "python",
     "metadata": {},
     "outputs": [
      {
       "output_type": "stream",
       "stream": "stdout",
       "text": [
        "Using Fatiando a Terra version 0.2\n"
       ]
      }
     ],
     "prompt_number": 8
    },
    {
     "cell_type": "code",
     "collapsed": false,
     "input": [],
     "language": "python",
     "metadata": {},
     "outputs": []
    }
   ],
   "metadata": {}
  }
 ]
}